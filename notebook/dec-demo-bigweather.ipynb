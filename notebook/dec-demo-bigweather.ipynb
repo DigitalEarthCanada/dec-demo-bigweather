{
 "cells": [
  {
   "cell_type": "markdown",
   "id": "67db5cf9-1568-4029-be54-ecb8c82bcae6",
   "metadata": {},
   "source": [
    "# Digital Earth Canada demonstration - BigWeather Use Case"
   ]
  },
  {
   "cell_type": "markdown",
   "id": "74a9ee30-d62d-45fd-a386-e193c65604f4",
   "metadata": {},
   "source": [
    "## Build and upload Docker image\n",
    "### Get access token"
   ]
  },
  {
   "cell_type": "code",
   "execution_count": null,
   "id": "e24f503f-097e-4b2e-a7c9-20e443787e04",
   "metadata": {},
   "outputs": [],
   "source": [
    "from copy import deepcopy\n",
    "import json\n",
    "import os\n",
    "\n",
    "from base64 import b64decode\n",
    "import boto3\n",
    "import docker\n",
    "from dotenv import load_dotenv\n",
    "from IPython import display\n",
    "import requests\n",
    "import yaml"
   ]
  },
  {
   "cell_type": "code",
   "execution_count": null,
   "id": "8cf87b15-d5e1-4378-9529-53343659734f",
   "metadata": {},
   "outputs": [],
   "source": [
    "load_dotenv('../default.env')\n",
    "\n",
    "token_url = f\"https://keycloak.{os.getenv('DOMAIN')}/realms/master/protocol/openid-connect/token\"\n",
    "\n",
    "data = {\n",
    "    'grant_type': 'password',\n",
    "    'username': os.getenv('USERNAME'),\n",
    "    'password': os.getenv('PASSWORD'),\n",
    "    'client_id': os.getenv('CLIENT_ID'),\n",
    "    'client_secret': os.getenv('CLIENT_SECRET')\n",
    "}"
   ]
  },
  {
   "cell_type": "code",
   "execution_count": null,
   "id": "cbfe4ff9-fdd4-4d4e-a93d-8bc51a8d243e",
   "metadata": {},
   "outputs": [],
   "source": [
    "response = requests.post(token_url, data=data).json()"
   ]
  },
  {
   "cell_type": "code",
   "execution_count": null,
   "id": "4ad4b7b7-00ae-44c5-afff-a1035b9f5856",
   "metadata": {},
   "outputs": [],
   "source": [
    "token = response['access_token']"
   ]
  },
  {
   "cell_type": "markdown",
   "id": "2dd3f9be-fbfd-4246-8310-80dde7bd1cb4",
   "metadata": {},
   "source": [
    "### Get Workspace Information"
   ]
  },
  {
   "cell_type": "code",
   "execution_count": null,
   "id": "c32b0df1-2950-4771-a339-0c1f2c449989",
   "metadata": {},
   "outputs": [],
   "source": [
    "workspace_url = f\"https://workspace-api.{os.getenv('DOMAIN')}/workspaces/{os.getenv('WORKSPACE')}\"\n",
    "\n",
    "headers = {\n",
    "    'Authorization': f\"Bearer {token}\"\n",
    "}"
   ]
  },
  {
   "cell_type": "code",
   "execution_count": null,
   "id": "068b2863-9c17-4546-bbe1-551a8ac4042b",
   "metadata": {},
   "outputs": [],
   "source": [
    "response = requests.get(workspace_url, headers=headers).json()\n",
    "response"
   ]
  },
  {
   "cell_type": "code",
   "execution_count": null,
   "id": "791d62fb-9779-49cd-8e7b-4aea335e1fad",
   "metadata": {},
   "outputs": [],
   "source": [
    "cr_username = response['container_registry']['username']\n",
    "cr_password = response['container_registry']['password']\n",
    "cr_registry = response['container_registry']['url']\n",
    "\n",
    "storage_info = deepcopy(response['storage'])"
   ]
  },
  {
   "cell_type": "markdown",
   "id": "e12dfcda-e309-495d-bc95-48045af894a8",
   "metadata": {},
   "source": [
    "### Links\n",
    "https://harbor.dec.alpha.canada.ca/harbor/projects\n",
    "https://applicationhub.dec.alpha.canada.ca/user/bigweather/?folder=/workspace\n",
    "https://argo-workflow.dec.alpha.canada.ca/workflows/ws-bigweather-job?&limit=50"
   ]
  },
  {
   "cell_type": "code",
   "execution_count": null,
   "id": "383a6f79-fad4-4917-b779-2a74c4bc22df",
   "metadata": {},
   "outputs": [],
   "source": [
    "docker_client = docker.DockerClient(base_url=os.getenv('DOCKER_SOCK'))"
   ]
  },
  {
   "cell_type": "code",
   "execution_count": null,
   "id": "5574df85-25b8-428b-bc1b-1eb81660b2cf",
   "metadata": {},
   "outputs": [],
   "source": [
    "docker_client.login(cr_username, cr_password, registry=cr_registry)"
   ]
  },
  {
   "cell_type": "code",
   "execution_count": null,
   "id": "2f2335ca-eaf0-4d38-ac54-35fecfba76bc",
   "metadata": {},
   "outputs": [],
   "source": [
    "app_tag = f'{cr_registry.replace(\"https://\", \"\")}/test-tom/precipitations2:0.0.10'\n",
    "docker_client.images.build(tag=app_tag, path='../app/precipitations')\n",
    "docker_client.images.push(app_tag)"
   ]
  },
  {
   "cell_type": "code",
   "execution_count": null,
   "id": "bfbd65f7-e990-40bc-971c-988f59283edb",
   "metadata": {},
   "outputs": [],
   "source": [
    "with open('../app/precipitations/workflow/workflow_template.yaml') as fh:\n",
    "    cwl_yaml_dict = yaml.load(fh, Loader=yaml.SafeLoader)\n",
    "    process_identifier = cwl_yaml_dict['metadata']['name']\n",
    "    fh.seek(0)\n",
    "    cwl_yaml_str = fh.read()\n",
    "\n",
    "url = f\"https://zoo.{os.getenv('DOMAIN')}/{os.getenv('USERNAME')}/ogc-api/processes/{process_identifier}\"\n",
    "\n",
    "headers = {\n",
    "    'Content-Type': 'application/cwl+yaml',\n",
    "    'Accept': 'application/json',\n",
    "    'Authorization': f'Bearer {token}'\n",
    "}\n",
    "\n",
    "# do not deploy, update\n",
    "response = requests.put(url, headers=headers, data=cwl_yaml_str)\n",
    "response.raise_for_status()"
   ]
  },
  {
   "cell_type": "code",
   "execution_count": null,
   "id": "07bc02c0-f59c-419a-888d-77b876421f9e",
   "metadata": {},
   "outputs": [],
   "source": [
    "response"
   ]
  },
  {
   "cell_type": "code",
   "execution_count": null,
   "id": "37301fbe-3a56-4338-8225-5fb97e4b48ca",
   "metadata": {},
   "outputs": [],
   "source": [
    "url = f\"https://zoo.{os.getenv('DOMAIN')}/{os.getenv('USERNAME')}/ogc-api/processes/{process_identifier}/execution\"\n",
    "\n",
    "headers = {\n",
    "    'Prefer': 'respond-async;return=representation',\n",
    "    'Content-Type': 'application/json',\n",
    "    'Authorization': f'Bearer {token}'\n",
    "}\n",
    "\n",
    "data = {\n",
    "    'inputs': {\n",
    "        'x': \"-123.116\",\n",
    "        'y': \"49.288\"\n",
    "    }\n",
    "}\n",
    "\n",
    "response = requests.post(url, headers=headers, data=json.dumps(data))\n",
    "response.raise_for_status()\n",
    "\n",
    "job_url = response.headers['location']"
   ]
  },
  {
   "cell_type": "code",
   "execution_count": null,
   "id": "fbc6929f-b605-4ead-9434-a32691a8aff9",
   "metadata": {
    "scrolled": true
   },
   "outputs": [],
   "source": [
    "headers = {\n",
    "    'Authorization': f'Bearer {token}'\n",
    "}\n",
    "\n",
    "job_poll_end = False\n",
    "\n",
    "while not job_poll_end:\n",
    "    response = requests.get(job_url, headers=headers).json()\n",
    "    if response['status'] == 'successful':\n",
    "        job_poll_end = True\n",
    "    elif response['status'] == 'failed':\n",
    "        print(\"process failed: {response['message']}\")\n",
    "        job_poll_end = True\n",
    "    else:\n",
    "        print(response['status'], response['progress'])\n"
   ]
  },
  {
   "cell_type": "code",
   "execution_count": null,
   "id": "8c0db15a-ac2a-48c5-9e46-ff0c745aa702",
   "metadata": {},
   "outputs": [],
   "source": [
    "url = response['links'][0]['href']\n",
    "\n",
    "response\n",
    "headers = {\n",
    "    'Authorization': f'Bearer {token}'\n",
    "}\n",
    "\n",
    "response = requests.get(url, headers=headers).json()"
   ]
  },
  {
   "cell_type": "code",
   "execution_count": null,
   "id": "1049b550-3b4b-41db-92a9-61c3a625e8d9",
   "metadata": {},
   "outputs": [],
   "source": [
    "url = response['links'][1]['href']\n",
    "\n",
    "headers = {\n",
    "    'Authorization': f'Bearer {token}'\n",
    "}\n",
    "\n",
    "response = requests.get(url, headers=headers).json()"
   ]
  },
  {
   "cell_type": "code",
   "execution_count": null,
   "id": "9c3570d1-4b89-4deb-906f-844bb99d0a78",
   "metadata": {
    "scrolled": true
   },
   "outputs": [],
   "source": [
    "result = json.loads(response['stac']['value'])\n",
    "result"
   ]
  },
  {
   "cell_type": "code",
   "execution_count": null,
   "id": "62d3ac08-056a-481f-942c-45c276f3c5b2",
   "metadata": {
    "scrolled": true
   },
   "outputs": [],
   "source": [
    "url = 's3://ws-bigweather/processing-results/7d95ce4c-0b61-11f0-9e3d-9a8ccd65f1f9/collection.json'\n",
    "url = result['links'][2]['href']\n",
    "\n",
    "def get_s3_object_only(s3_url: str):\n",
    "    return s3_url.replace(f\"s3://{storage_info['credentials']['bucketname']}\", '')\n",
    "\n",
    "s3_url = get_s3_object_only(url)\n",
    "\n",
    "headers = {\n",
    "    'Authorization': f'Bearer {token}'\n",
    "}\n",
    "\n",
    "import boto3\n",
    "session = boto3.Session(\n",
    "    aws_access_key_id=storage_info['credentials']['access'],\n",
    "    aws_secret_access_key=storage_info['credentials']['secret']\n",
    ")\n",
    "\n",
    "s3_client = session.client('s3', endpoint_url=storage_info['credentials']['endpoint'])\n",
    "data = s3_client.get_object(Bucket=storage_info['credentials']['bucketname'], Key=s3_url)\n",
    "\n",
    "data2 = data['Body'].read()\n",
    "feature = json.loads(data2)\n",
    "\n",
    "#print(feature)\n",
    "probability_of_rain_url = get_s3_object_only(feature['assets']['probability_of_rain']['href'])\n",
    "predicted_profit_url = get_s3_object_only(feature['assets']['predicted_profit']['href'])\n",
    "\n",
    "probability_of_rain_data = s3_client.get_object(Bucket=storage_info['credentials']['bucketname'], Key=probability_of_rain_url)['Body'].read()\n",
    "predicted_profit_data = s3_client.get_object(Bucket=storage_info['credentials']['bucketname'], Key=predicted_profit_url)['Body'].read()\n",
    "\n",
    "display.Image(predicted_profit_data)\n"
   ]
  },
  {
   "cell_type": "code",
   "execution_count": null,
   "id": "1c8cc6c2-b17f-440d-ae0a-c70ce4314754",
   "metadata": {},
   "outputs": [],
   "source": [
    "display.Image(probability_of_rain_data)"
   ]
  }
 ],
 "metadata": {
  "kernelspec": {
   "display_name": "Python 3 (ipykernel)",
   "language": "python",
   "name": "python3"
  },
  "language_info": {
   "codemirror_mode": {
    "name": "ipython",
    "version": 3
   },
   "file_extension": ".py",
   "mimetype": "text/x-python",
   "name": "python",
   "nbconvert_exporter": "python",
   "pygments_lexer": "ipython3",
   "version": "3.11.8"
  }
 },
 "nbformat": 4,
 "nbformat_minor": 5
}
