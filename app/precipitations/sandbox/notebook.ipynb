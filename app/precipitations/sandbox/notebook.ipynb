{
 "cells": [
  {
   "cell_type": "code",
   "execution_count": null,
   "metadata": {},
   "outputs": [],
   "source": [
    "# Importation of Python modules \n",
    "from datetime import datetime, timedelta\n",
    "import re\n",
    "import warnings\n",
    "\n",
    "# The following modules must first be installed to use \n",
    "# this code out of Jupyter Notebook\n",
    "import matplotlib.pyplot as plt\n",
    "import matplotlib.dates as mdates\n",
    "import numpy\n",
    "from owslib.wms import WebMapService\n",
    "import pandas\n",
    "from tabulate import tabulate\n",
    "\n",
    "# Ignore warnings from the OWSLib module\n",
    "warnings.filterwarnings('ignore', module='owslib', category=UserWarning)\n",
    "\n",
    "# Parameters choice\n",
    "# Layer:\n",
    "layer = 'REPS.DIAG.3_PRMM.ERGE5'\n",
    "# Coordinates:\n",
    "y, x = 49.288, -123.116\n",
    "# Local time zone (in this exemple, the local time zone is UTC-07:00):\n",
    "time_zone = -7"
   ]
  }
 ],
 "metadata": {
  "language_info": {
   "name": "python"
  }
 },
 "nbformat": 4,
 "nbformat_minor": 2
}
